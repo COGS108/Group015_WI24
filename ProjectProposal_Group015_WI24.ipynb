{
  "project": {
    "title": "COGS 108 - Project Proposal",
    "team_members": [
      "Ant Man",
      "Hulk",
      "Iron Man",
      "Thor",
      "Wasp"
    ],
    "research_question": "What factors predict how popular a Lego set theme would be?",
    "variables": [
      "Movies/shows made",
      "Number of pieces of Lego set",
      "Variability colored sets",
      "Ages targeted",
      "Versatility of Lego set",
      "Price points",
      "Availability",
      "Minifigs effect"
    ],
    "content_update": {
      "date": "Sunday, February 4, 2024",
      "new_team_members": [
        "Leila Andrade",
        "Suhaib Chowdhury",
        "Yuang (Shawn) Cui",
        "Leena Khattat",
        "Yvonne Ng"
      ],
      "updated_research_question": "What characteristics of any given Lego set contributes the most, the least or varying degree to its popularity amongst consumers? How accurately can these relationships derived from analyzing the characteristics amongst existing Lego sets predict the popularity of future sets?",
      "sub_questions": [
        "Influence of movies, shows, or games featuring LEGO on popularity",
        "Impact of varying number of pieces on popularity",
        "Effect of variability of colors on popularity",
        "Influence of advised ages on popularity",
        "Contribution of LEGO set versatility to popularity",
        "Impact of price variability on popularity",
        "Influence of availability on popularity",
        "Effect of LEGO minifigures on popularity"
      ]
    },
    "background": {
      "introduction": "LEGO® Group's rise in popularity, growth in consumer sales, and its history.",
      "prior_work": [
        {
          "reference": "LEGO Group 2022 Annual Results",
          "url": "https://www.lego.com/en-us/aboutus/news/2023/march/2022-annual-results"
        },
        {
          "reference": "The LEGO Group History",
          "url": "https://www.lego.com/en-us/aboutus/lego-group/the-lego-group-history"
        },
        {
          "reference": "67 Years of Lego Sets",
          "url": "https://mode.com/blog/lego-data-analysis"
        },
        {
          "reference": "Exploratory Analysis on LEGO Dataset",
          "url": "https://medium.com/analytics-vidhya/exploratory-analysis-on-lego-dataset-8967e37fc5dd"
        },
        {
          "reference": "Exploring the Rebrickable LEGO Dataset (Python)",
          "url": "https://medium.com/@beananalytics_/exploring-the-rebrickable-lego-dataset-python-9f95144be8f1"
        }
      ]
    },
    "hypothesis": "Specific settings of variables such as presence of Minifigures, widespread availability, increased versatility of sets, and existence of visual media significantly drive LEGO set popularity upwards, while other attributes like price variability, color variability, number of pieces, and prescribed ages do not have a meaningful impact.",
    "data": {
      "ideal_dataset": "Information on variables related to each LEGO set including theme, number of pieces, target age range, types of pieces, number of mini figures, sales, price, and availability.",
      "real_datasets": [
        "https://brickset.com/sets",
        "https://www.brickeconomy.com/sets",
        "https://www.bricklink.com/v2/main.page",
        "https://rebrickable.com/downloads/",
        "https://www.lego.com/en-us/themes",
        "https://www.lego.com/en-us/aboutus/lego-group/policies-and-reporting/reports"
      ],
      "differences": "Absence of a unified dataset containing all required information; reliance on various sources might introduce inconsistencies."
    },
    "ethics_privacy": "Addressing potential biases (sampling bias, age bias, time bias), privacy concerns, and ensuring data collection and usage comply with privacy laws and policies.",
    "team_policies": [
      "Respond to project-relevant messages within 12 hours",
      "Notify of delays at least 3 days in advance",
      "Use Notion for group work and Zoom for meetings",
      "Voice any concerns to the group"
    ],
    "project_timeline": "Detailed timeline of meetings, tasks to be completed before meetings, discussion points for meetings, and final project submission deadline."
  }
}
