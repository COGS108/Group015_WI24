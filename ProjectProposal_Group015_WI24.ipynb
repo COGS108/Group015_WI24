{
 "cells": [
  {
   "cell_type": "markdown",
   "metadata": {},
   "source": [
    "# COGS 108 - Project Proposal"
   ]
  },
  {
   "cell_type": "markdown",
   "metadata": {},
   "source": [
    "# Names\n",
    "\n",
    "- Leila Andrade\n",
    "- Suhaib Chowdhury\n",
    "- Yuang Cui\n",
    "- Leena Khattat\n",
    "- Yvonne Ng"
   ]
  },
{
   "cell_type": "markdown",
   "metadata": {},
   "source": [
    "# Research Question"
   ]
  },
  {
   "cell_type": "markdown",
   "metadata": {},
   "source": [
    "What characteristics of any given Lego set contributes the most, the least or varying degree to its popularity amongst consumers? How accurately can these relationships derived from analyzing the characteristics amongst existing Lego sets predict the popularity of future sets? Some of the characteristics that we would like to explore further in the following sub-questions:\n",
    "\n",
    "- What movies, shows, or games have been made featuring LEGO that contribute to popularity?\n",
    "- How do varying number of pieces amongst sets influence popularity?\n",
    "- Does the variability of colors have an impact on popularity?\n",
    "- What effect do the advised ages for sets have on popularity?\n",
    "- How does the versatility of LEGO sets (i.e., building different things with same pieces) contribute to popularity?\n",
    "- Does price variability have a significant impact on popularity?\n",
    "- What influence does the availability sets in stores, online or both platforms have on popularity?\n",
    "- How does the presence of LEGO minifigures affect the popularity of a set?"
   ]
  }
,
{
   "cell_type": "markdown",
   "metadata": {},
   "source": [
    "# Background and Prior Work"
   ]
  },
  {
   "cell_type": "markdown",
   "metadata": {},
   "source": [
    "LEGO® Group was built brick by brick to become the powerhouse that it is today, reaching millions of consumers and accumulating billions in revenue each year. Increases in global market share and profit margins reflect their rise in popularity. In 2022, the LEGO Group experienced a whopping 12 percent growth in consumer sales which can be attributed to introduction of sets from themes such as LEGO® City, LEGO® Icons and LEGO® Technic™, as well as themes with intellectual property partners such as LEGO® *Star Wars*™ and LEGO® Harry Potter™ ^1. All these LEGO sets have one thing in common - the brick - which comes in different shapes, sizes, and colors.\n",
    "\n",
    "LEGO®s were not always synonymous with the versatile plastic pieces meant for play, exploration, art or more. Ole Kirk Kristiansen, a master carpenter from Billund, Denmark, began crafting wooden toys, and combined the Danish words “Leg Godt” for “play well” to form the renowned “LEGO®” in 1936 ^2. Ole also launched the LEGO® bricks predecessors, Automatic Binding Bricks, however it was Godtfred Kirk Christiansen, his son, that catapulted LEGO® Group to new heights in the 1950s by introducing LEGO® System in Play and re-designing the LEGO® brick ^2. The next few decades witness an explosion in available LEGO® sets due to the introduction of new pieces, themes, and entertainment as well as construction of stores, factories and theme parks.\n",
    "\n",
    "A 2016 analysis conducted by Mode data scientist Joel Carron, revealed some interesting findings from a 67-year timeline of LEGO® sets. For instance, LEGO® bricks are graying and large sets with more pieces continue to grow while small sets are relatively the same ^3. Thus, we find it critical to analyze the colors and number of pieces across all types of sets. Another notable trend is that the number of sets released each year have increased except when the LEGO® group was battling against bankruptcy between the years of 2004 and 2009 ^3. This is not surprising as the whole world was experiencing a financial crisis and many companies struggled to stay afloat. Hence, this period of financial uncertainty could have an impact on our data, and we need to be cognizant of the fact.\n",
    "\n",
    "Subsequently, a 2021 analysis by data enthusiast Yvonne Zhang that was inspired by the previous study disclosed more updated findings. For example, 9,625 sets out of 16,691 unique sets have themes ^4. Simply put, themed LEGO® sets make-up 58 percent of all sets and could indicate a greater influence than generic sets. Zhang also emphasized that majority of sets were derived from LEGO® System theme before 1970, then shifted to Legoland theme in the 1970s and onto other themes such as Duplo, Universal Building, Bionicle from the 1980s to the 2010s ^4. This goes to show that themes can come and go, but the bricks are here forever. LEGO® Group needs to continue developing and releasing new themes to keep capture the heart of their fans and the wallets of their consumers. Zhang reaffirms the upward trend for number of sets and number of pieces per set ^4. This further indicates that the two quantitative characteristics could have a significant impact on measuring the popularity of future sets. Lastly, Zhang elaborated on how the bricks are graying by showing that black, white, light bluish gray, dark bluish gray, and red are the dominant colors in the past 72 years ^4. When color tastes changes in society, then color palettes on products do the same. As a result, color cannot be overlooked when attempting to predict the popularity of a future set.\n",
    "\n",
    "A recent 2023 analysis by data analyst Tyran Christian provided the most extensive and eye-opening look into LEGO sets by using a data set from Rebrickable. Star Wars and Technic sets have the highest number of parts and have longevity amongst other favorites including Duplo, City, Creator, Ninjago with Marvel Super Heros being a rising theme ^5. Here we can see that older themes remain strong in the market, yet new themes are able to breach the rankings. Another relationship to unpack would be the popularity of classic LEGO themes in comparison to licensed themes. Christian demonstrated that classic themes like Western, Vikings or Adventurers increased in value after their end-of-life similar to licensed themes such as Batman, Spider-Man and Indiana Jones despite assumption that licensed themes would perform better ^5. Christian even recommended two ways to further his analysis: implement a predictive machine learning model and add LEGO Minifigures data ^5. We plan to take his recommendations into account and develop these pathways. In-depth analysis of these LEGO sets will equip us with valuable information to predict the popularity of a set. All in all, this preliminary research helped us better understand the current trends, what has already been done and know where to take our project.\n",
    "\n",
    "1. ^ LEGO Group. \"LEGO Group 2022 Annual Results.\" LEGO Official Website, March 2023, https://www.lego.com/en-us/aboutus/news/2023/march/2022-annual-results.\n",
    "2. ^ LEGO Group. \"The LEGO Group History.\" LEGO Official Website, https://www.lego.com/en-us/aboutus/lego-group/the-lego-group-history.\n",
    "3. ^ Carron, Joel. \"67 Years of Lego Sets.\" Mode Blog, 21 July 2016, https://mode.com/blog/lego-data-analysis.\n",
    "4. ^ Zhang, Yvonne. \"Exploratory Analysis on LEGO Dataset.\" Medium, 28 Feb. 2021, https://medium.com/analytics-vidhya/exploratory-analysis-on-lego-dataset-8967e37fc5dd.\n",
    "5. ^ Christian, Tyran. \"Exploring the Rebrickable LEGO Dataset (Python).\" Medium, 7 Feb. 2023, https://medium.com/@beananalytics_/exploring-the-rebrickable-lego-dataset-python-9f95144be8f1."
   ]
  }
,
{
   "cell_type": "markdown",
   "metadata": {},
   "source": [
    "# Hypothesis"
   ]
  },
  {
   "cell_type": "markdown",
   "metadata": {},
   "source": [
    "We believe that specific settings of our chosen variables for analyzing a LEGO set such as the presence of Minifigures, widespread availability in stores and online, increased versatility of sets, and existence of visual media for popular entertainment significantly drives its popularity upwards. Simultaneously, we suspect that other attributes like price variability, color variability, number of pieces and prescribed ages do not have a meaningful impact on the popularity."
   ]
  }
,
  {
   "cell_type": "markdown",
   "metadata": {},
   "source": [
    "# Data"
   ]
  },
  {
   "cell_type": "markdown",
   "metadata": {},
   "source": [
    "1. The ideal dataset for our project would encompass comprehensive details on each LEGO set, focusing on variables such as theme, number of pieces, target age range, types and colors of pieces, number of minifigures, sales data, retail and secondary market prices, and availability online and in stores. Ideally, we would like each dataset entry to represent a unique LEGO set, identified by its official set number. Variables would be collected from product packaging, official LEGO resources, and third-party sales data, ideally organized into a structured database or Python data frames for analysis and visualization.\n",
    "\n",
    "2. For real dataset acquisition, several online resources offer extensive LEGO set information. While these sources provide a wealth of data, they might not offer comprehensive sales figures or combine all desired variables in a single dataset. We plan to extract and compile data from the following platforms:\n",
    "   - **Brickset**: Offers extensive LEGO set details, including user ownership and wishlist counts, age ranges, and retail periods. (https://brickset.com/sets)\n",
    "   - **BrickEconomy**: Provides detailed historical price data of sets and minifigures across various platforms. (https://www.brickeconomy.com/sets)\n",
    "   - **BrickLink**: Contains detailed price information and piece-level data for each set. (https://www.bricklink.com/v2/main.page)\n",
    "   - **Rebrickable**: Offers downloadable data on LEGO sets, including piece and minifigure details. (https://rebrickable.com/downloads/)\n",
    "   - **Official LEGO® Shop**: The official source for set information, ratings, retail prices, and stock status. (https://www.lego.com/en-us/themes)\n",
    "   - **LEGO Group Reports**: Provides some financial data and popular themes. (https://www.lego.com/en-us/aboutus/lego-group/policies-and-reporting/reports)\n",
    "\n",
    "   The challenge lies in aggregating data from these varied sources to form a cohesive dataset that approximates our ideal dataset. This process may introduce inconsistencies and lacks detailed demographic information and comprehensive sales figures, requiring reliance on indirect measures of popularity and price history."
   ]
  }
,
  {
   "cell_type": "markdown",
   "metadata": {},
   "source": [
    "# Ethics & Privacy"
   ]
  },
  {
   "cell_type": "markdown",
   "metadata": {},
   "source": [
    "- Thoughtful discussion of ethical concerns included\n",
    "- Ethical concerns consider the whole data science process (question asked, data collected, data being used, the bias in data, analysis, post-analysis, etc.)\n",
    "- How your group handled bias/ethical concerns clearly described\n",
    "\n",
    "Acknowledge and address any ethics & privacy related issues of your question(s), proposed dataset(s), and/or analyses. Use the information provided in lecture to guide your group discussion and thinking. If you need further guidance, check out [Deon's Ethics Checklist](http://deon.drivendata.org/#data-science-ethics-checklist). In particular:\n",
    "\n",
    "- Are there any biases/privacy/terms of use issues with the data you propsed?\n",
    "- Are there potential biases in your dataset(s), in terms of who it composes, and how it was collected, that may be problematic in terms of it allowing for equitable analysis? (For example, does your data exclude particular populations, or is it likely to reflect particular human biases in a way that could be a problem?)\n",
    "- How will you set out to detect these specific biases before, during, and after/when communicating your analysis?\n",
    "- Are there any other issues related to your topic area, data, and/or analyses that are potentially problematic in terms of data privacy and equitable impact?\n",
    "- How will you handle issues you identified?"
   ]
  },
  {
   "cell_type": "markdown",
   "metadata": {},
   "source": [
    "# Team Expectations "
   ]
  },
  {
   "cell_type": "markdown",
   "metadata": {},
   "source": [
    "\n",
    "Read over the [COGS108 Team Policies](https://github.com/COGS108/Projects/blob/master/COGS108_TeamPolicies.md) individually. Then, include your group’s expectations of one another for successful completion of your COGS108 project below. Discuss and agree on what all of your expectations are. Discuss how your team will communicate throughout the quarter and consider how you will communicate respectfully should conflicts arise. By including each member’s name above and by adding their name to the submission, you are indicating that you have read the COGS108 Team Policies, accept your team’s expectations below, and have every intention to fulfill them. These expectations are for your team’s use and benefit — they won’t be graded for their details.\n",
    "\n",
    "* *Team Expectation 1*\n",
    "* *Team Expectation 2*\n",
    "* *Team Expecation 3*\n",
    "* ..."
   ]
  },
  {
   "cell_type": "markdown",
   "metadata": {},
   "source": [
    "# Project Timeline Proposal"
   ]
  },
  {
   "cell_type": "markdown",
   "metadata": {},
   "source": [
    "Specify your team's specific project timeline. An example timeline has been provided. Changes the dates, times, names, and details to fit your group's plan.\n",
    "\n",
    "If you think you will need any special resources or training outside what we have covered in COGS 108 to solve your problem, then your proposal should state these clearly. For example, if you have selected a problem that involves implementing multiple neural networks, please state this so we can make sure you know what you’re doing and so we can point you to resources you will need to implement your project. Note that you are not required to use outside methods.\n",
    "\n",
    "\n",
    "\n",
    "| Meeting Date  | Meeting Time| Completed Before Meeting  | Discuss at Meeting |\n",
    "|---|---|---|---|\n",
    "| 1/20  |  1 PM | Read & Think about COGS 108 expectations; brainstorm topics/questions  | Determine best form of communication; Discuss and decide on final project topic; discuss hypothesis; begin background research | \n",
    "| 1/26  |  10 AM |  Do background research on topic | Discuss ideal dataset(s) and ethics; draft project proposal | \n",
    "| 2/1  | 10 AM  | Edit, finalize, and submit proposal; Search for datasets  | Discuss Wrangling and possible analytical approaches; Assign group members to lead each specific part   |\n",
    "| 2/14  | 6 PM  | Import & Wrangle Data (Ant Man); EDA (Hulk) | Review/Edit wrangling/EDA; Discuss Analysis Plan   |\n",
    "| 2/23  | 12 PM  | Finalize wrangling/EDA; Begin Analysis (Iron Man; Thor) | Discuss/edit Analysis; Complete project check-in |\n",
    "| 3/13  | 12 PM  | Complete analysis; Draft results/conclusion/discussion (Wasp)| Discuss/edit full project |\n",
    "| 3/20  | Before 11:59 PM  | NA | Turn in Final Project & Group Project Surveys |"
   ]
  }
 ],
 "metadata": {
  "kernelspec": {
   "display_name": "Python 3 (ipykernel)",
   "language": "python",
   "name": "python3"
  },
  "language_info": {
   "codemirror_mode": {
    "name": "ipython",
    "version": 3
   },
   "file_extension": ".py",
   "mimetype": "text/x-python",
   "name": "python",
   "nbconvert_exporter": "python",
   "pygments_lexer": "ipython3",
   "version": "3.9.7"
  }
 },
 "nbformat": 4,
 "nbformat_minor": 2
}
