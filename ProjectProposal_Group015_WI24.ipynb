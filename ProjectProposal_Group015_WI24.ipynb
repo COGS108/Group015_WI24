{
  "date": "Sunday, February 4, 2024",
  "research_question": "What characteristics of any given Lego set contributes the most, the least or varying degree to its popularity amongst consumers?",
  "names": [
    "Leila Andrade",
    "Suhaib Chowdhury",
    "Yuang (Shawn) Cui",
    "Leena Khattat",
    "Yvonne Ng"
  ],
  "sub_questions": [
    "What movies, shows, or games have been made featuring LEGO that contribute to popularity?",
    "How do varying number of pieces amongst sets influence popularity?",
    "Does the variability of colors have an impact on popularity?",
    "What effect do the advised ages for sets have on popularity?",
    "How does the versatility of LEGO sets contribute to popularity?",
    "Does price variability have a significant impact on popularity?",
    "What influence does the availability sets in stores, online or both platforms have on popularity?",
    "How does the presence of LEGO minifigures affect the popularity of a set?"
  ],
  "background_and_prior_work": {
    "summary": "LEGO® Group's rise in popularity, their history, and significant growth in consumer sales in 2022, attributed to various factors including introduction of sets from themes such as LEGO® City, and collaborations with intellectual property partners like LEGO® Star Wars™.",
    "references": [
      {
        "title": "LEGO Group 2022 Annual Results",
        "url": "https://www.lego.com/en-us/aboutus/news/2023/march/2022-annual-results"
      },
      {
        "title": "The LEGO Group History",
        "url": "https://www.lego.com/en-us/aboutus/lego-group/the-lego-group-history"
      },
      {
        "title": "67 Years of Lego Sets",
        "url": "https://mode.com/blog/lego-data-analysis"
      },
      {
        "title": "Exploratory Analysis on LEGO Dataset",
        "url": "https://medium.com/analytics-vidhya/exploratory-analysis-on-lego-dataset-8967e37fc5dd"
      },
      {
        "title": "Exploring the Rebrickable LEGO Dataset (Python)",
        "url": "https://medium.com/@beananalytics_/exploring-the-rebrickable-lego-dataset-python-9f95144be8f1"
      }
    ]
  },
  "hypothesis": "Specific settings of our chosen variables for analyzing a LEGO set such as the presence of Minifigures, widespread availability in stores and online, increased versatility of sets, and existence of visual media for popular entertainment significantly drives its popularity upwards.",
  "data": {
    "ideal_dataset_description": "The ideal dataset should contain information on every variable that we want to explore as it pertains to each individual LEGO set, including theme, number of pieces, the target age range, color and types of pieces, minifigures, sales, and availability.",
    "real_datasets_sources": [
      "https://brickset.com/sets",
      "https://www.brickeconomy.com/sets",
      "https://www.bricklink.com/v2/main.page",
      "https://rebrickable.com/downloads/",
      "https://www.lego.com/en-us/themes",
      "https://www.lego.com/en-us/aboutus/lego-group/policies-and-reporting/reports"
    ]
  },
  "ethics_privacy": "Discussion on recognizing and addressing bias in datasets, ensuring privacy and ethical handling of data, including anonymization of customer data and compliance with privacy laws and policies.",
  "team_policies": [
    "All members should respond to messages within 12 hours through iMessage.",
    "Notify of delays at least 3 days in advance.",
    "Use Notion for group work and Zoom for meetings.",
    "Voice any concerns to the group."
  ],
  "project_timeline_proposal": "Detailed project timeline including meetings, tasks, and deadlines."
}
