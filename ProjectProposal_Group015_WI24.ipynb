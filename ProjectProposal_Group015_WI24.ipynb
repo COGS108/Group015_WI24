{
  "cells": [
    {
      "cell_type": "markdown",
      "metadata": {},
      "source": [
        "## Hypothesis\n",
        "\n",
        "We believe that specific settings of our chosen variables for analyzing a LEGO set such as the presence of Minifigures, widespread availability in stores and online, increased versatility of sets, and existence of visual media for popular entertainment significantly drives its popularity upwards. Simultaneously, we suspect that other attributes like price variability, color variability, number of pieces, and prescribed ages do not have a meaningful impact on the popularity."
      ]
    },
    {
      "cell_type": "markdown",
      "metadata": {},
      "source": [
        "## Data\n",
        "\n",
        "The ideal dataset should contain information on every variable that we want to explore as it pertains to each individual LEGO set. This would include the theme, number of pieces, the target age range, the number, color, and types of pieces, the number of mini figures, the sales of the set, the price of the set, both in retail and the secondhand market, and the availability of each set on stores and online.\n",
        "\n",
        "Potential real datasets that could be useful include:\n",
        "- https://brickset.com/sets\n",
        "- https://www.brickeconomy.com/sets\n",
        "- https://www.bricklink.com/v2/main.page\n",
        "- https://rebrickable.com/downloads/\n",
        "- https://www.lego.com/en-us/themes\n",
        "- https://www.lego.com/en-us/aboutus/lego-group/policies-and-reporting/reports"
      ]
    },
    {
      "cell_type": "markdown",
      "metadata": {},
      "source": [
        "## Ethics & Privacy\n",
        "\n",
        "It is crucial to recognize the bias in any datasets we use, ensuring that data collection and usage comply with privacy laws and policies. We plan to anonymize any customer names or personal information and use this anonymized data in our predictive model. Moreover, we will be conscious of the potential biases in our dataset and strive to use as much inclusive data as possible from our datasets."
      ]
    },
    {
      "cell_type": "markdown",
      "metadata": {},
      "source": [
        "## Team Expectations\n",
        "\n",
        "- All members should respond to messages relevant to the project within 12 hours through iMessage.\n",
        "- Notify of delays at least 3 days in advance.\n",
        "- Use Notion for group work and Zoom for meetings.\n",
        "- Voice any concerns to the group."
      ]
    },
    {
      "cell_type": "markdown",
      "metadata": {},
      "source": [
        "## Project Timeline Proposal\n",
        "\n",
        "| Meeting Date  | Meeting Time| Completed Before Meeting  | Discuss at Meeting |\n",
        "|---|---|---|---|\n",
        "| 1/20  |  1 PM | Read & Think about COGS 108 expectations; brainstorm topics/questions  | Determine best form of communication; Discuss and decide on final project topic; discuss hypothesis; begin background research |\n",
        "| 1/26  |  10 AM |  Do background research on topic | Discuss ideal dataset(s) and ethics; draft project proposal |\n",
        "| 2/1  | 10 AM  | Edit, finalize, and submit proposal; Search for datasets  | Discuss Wrangling and possible analytical approaches; Assign group members to lead each specific part |\n",
        "| 2/14  | 6 PM  | Import & Wrangle Data (Ant Man); EDA (Hulk) | Review/Edit wrangling/EDA; Discuss Analysis Plan |\n",
        "| 2/23  | 12 PM  | Finalize wrangling/EDA; Begin Analysis (Iron Man; Thor) | Discuss/edit Analysis; Complete project check-in |\n",
        "| 3/13  | 12 PM  | Complete analysis; Draft results/conclusion/discussion (Wasp)| Discuss/edit full project |\n",
        "| 3/20  | Before 11:59 PM  | NA | Turn in Final Project & Group Project Surveys |"
      ]
    }
  ],
  "metadata": {
    "kernelspec": {
      "display_name": "Python 3 (ipykernel)",
      "language": "python",
      "name": "python3"
    },
    "language_info": {
      "codemirror_mode": {
        "name": "ipython",
        "version": 3
      },
      "file_extension": ".py",
      "mimetype": "text/x-python",
      "name": "python",
      "nbconvert_exporter": "python",
      "pygments_lexer": "ipython3",
      "version": "3.9.7"
    }
  },
  "nbformat": 4,
  "nbformat_minor": 2
}
