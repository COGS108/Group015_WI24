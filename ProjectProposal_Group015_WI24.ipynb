{
  "cells": [
    {
      "cell_type": "markdown",
      "metadata": {},
      "source": [
        "# COGS 108 - Project Proposal\n",
        "\n",
        "## Sunday, February 4, 2024\n",
        "\n",
        "**`What factors predict how popular a Lego set theme would be?`**\n",
        "- What movies/shows are made?\n",
        "- Number of pieces of Lego set\n",
        "- Variability colored sets\n",
        "- For what ages\n",
        "- Versatility of Lego set (able to change into different things with the same pieces)\n",
        "- Does higher price points vs lower price points?\n",
        "- Availability (in-store, online, or both)\n",
        "- Minifigs: does having minifigs have an effect, is there a specific number i.e. at least 2 in a set (Idk if we should add this category -Yvonne)"
      ]
    },
    {
      "cell_type": "markdown",
      "metadata": {},
      "source": [
        "# Names\n",
        "\n",
        "- Leila Andrade\n",
        "- Suhaib Chowdhury\n",
        "- Yuang (Shawn) Cui\n",
        "- Leena Khattat\n",
        "- Yvonne Ng"
      ]
    },
    {
      "cell_type": "markdown",
      "metadata": {},
      "source": [
        "# Research Question\n",
        "\n",
        "What characteristics of any given Lego set contributes the most, the least or varying degree to its popularity amongst consumers? How accurately can these relationships derived from analyzing the characteristics amongst existing Lego sets predict the popularity of future sets? Some of the characteristics that we would like to explore further in the following sub-questions:\n",
        "\n",
        "- What movies, shows, or games have been made featuring LEGO that contribute to popularity?\n",
        "- How do varying number of pieces amongst sets influence popularity?\n",
        "- Does the variability of colors have an impact on popularity?\n",
        "- What effect do the advised ages for sets have on popularity?\n",
        "- How does the versatility of LEGO sets (i.e. building different things with same pieces) contribute to popularity?\n",
        "- Does price variability have a significant impact on popularity?\n",
        "- What influence does the availability sets in stores, online or both platforms have on popularity?\n",
        "- How does the presence of LEGO minifigures affect the popularity of a set?"
      ]
    },
    {
      "cell_type": "markdown",
      "metadata": {},
      "source": [
        "## Background and Prior Work\n",
        "\n",
        "LEGO® Group was built brick by brick to become the powerhouse that it is today, reaching millions of consumers and accumulating billions in revenue each year. Increases in global market share and profit margins reflect their rise in popularity. In 2022, the LEGO Group experienced a whopping 12 percent growth in consumer sales which can be attributed to introduction of sets from themes such as LEGO® City, LEGO® Icons and LEGO® Technic™, as well as themes with intellectual property partners such as LEGO® *Star Wars*™ and LEGO® Harry Potter™. All these LEGO sets have one thing in common - the brick - which comes in different shapes, sizes, and colors.\n",
        "\n",
        "LEGO®s were not always synonymous with the versatile plastic pieces meant for play, exploration, art or more. Ole Kirk Kristiansen, a master carpenter from Billund, Denmark, began crafting wooden toys, and combined the Danish words “Leg Godt” for “play well” to form the renowned “LEGO®” in 1936. Ole also launched the LEGO® bricks predecessors, Automatic Binding Bricks, however it was Godtfred Kirk Christiansen, his son, that catapulted LEGO® Group to new heights in the 1950s by introducing LEGO® System in Play and re-designing the LEGO® brick. The next few decades witness an explosion in available LEGO® sets due to the introduction of new pieces, themes, and entertainment as well as construction of stores, factories and theme parks.\n",
        "\n",
        "References:\n",
        "1. LEGO Group. \"LEGO Group 2022 Annual Results.\" LEGO Official Website, March 2023, https://www.lego.com/en-us/aboutus/news/2023/march/2022-annual-results.\n",
        "2. LEGO Group. \"The LEGO Group History.\" LEGO Official Website, https://www.lego.com/en-us/aboutus/lego-group/the-lego-group-history.\n",
        "3. Carron, Joel. \"67 Years of Lego Sets.\" Mode Blog, 21 July 2016, https://mode.com/blog/lego-data-analysis.\n",
        "4. Zhang, Yvonne. \"Exploratory Analysis on LEGO Dataset.\" Medium, 28 Feb. 2021, https://medium.com/analytics-vidhya/exploratory-analysis-on-lego-dataset-8967e37fc5dd.\n",
        "5. Christian, Tyran. \"Exploring the Rebrickable LEGO Dataset (Python).\" Medium, 7 Feb. 2023, https://medium.com/@beananalytics_/exploring-the-rebrickable-lego-dataset-python-9f95144be8f1."
      ]
    }
  ],
  "metadata": {
    "kernelspec": {
      "display_name": "Python 3 (ipykernel)",
      "language": "python",
      "name": "python3"
    },
    "language_info": {
      "codemirror_mode": {
        "name": "ipython",
        "version": 3
      },
      "file_extension": ".py",
      "mimetype": "text/x-python",
      "name": "python",
      "nbconvert_exporter": "python",
      "pygments_lexer": "ipython3",
      "version": "3.9.7"
    }
  },
  "nbformat": 4,
  "nbformat_minor": 2
}
