{
 "cells": [
  {
   "cell_type": "markdown",
   "metadata": {},
   "source": [
    "# COGS 108 - Project Proposal"
   ]
  },
  {
   "cell_type": "markdown",
   "metadata": {},
   "source": [
    "# Names\n",
    "\n",
    "- Leila Andrade\n",
    "- Suhaib Chowdhury\n",
    "- Yuang Cui\n",
    "- Leena Khattat\n",
    "- Yvonne Ng"
   ]
  },
{
   "cell_type": "markdown",
   "metadata": {},
   "source": [
    "# Research Question"
   ]
  },
  {
   "cell_type": "markdown",
   "metadata": {},
   "source": [
    "What characteristics of any given Lego set contributes the most, the least or varying degree to its popularity amongst consumers? How accurately can these relationships derived from analyzing the characteristics amongst existing Lego sets predict the popularity of future sets? Some of the characteristics that we would like to explore further in the following sub-questions:\n",
    "\n",
    "- What movies, shows, or games have been made featuring LEGO that contribute to popularity?\n",
    "- How do varying number of pieces amongst sets influence popularity?\n",
    "- Does the variability of colors have an impact on popularity?\n",
    "- What effect do the advised ages for sets have on popularity?\n",
    "- How does the versatility of LEGO sets (i.e., building different things with same pieces) contribute to popularity?\n",
    "- Does price variability have a significant impact on popularity?\n",
    "- What influence does the availability sets in stores, online or both platforms have on popularity?\n",
    "- How does the presence of LEGO minifigures affect the popularity of a set?"
   ]
  }
,
{
   "cell_type": "markdown",
   "metadata": {},
   "source": [
    "## Background and Prior Work"
   ]
  },
  {
   "cell_type": "markdown",
   "metadata": {},
   "source": [
    "\n",
    "- Include a general introduction to your topic\n",
    "- Include explanation of what work has been done previously\n",
    "- Include citations or links to previous work\n",
    "\n",
    "This section will present the background and context of your topic and question in a few paragraphs. Include a general introduction to your topic and then describe what information you currently know about the topic after doing your initial research. Include references to other projects who have asked similar questions or approached similar problems. Explain what others have learned in their projects.\n",
    "\n",
    "Find some relevant prior work, and reference those sources, summarizing what each did and what they learned. Even if you think you have a totally novel question, find the most similar prior work that you can and discuss how it relates to your project.\n",
    "\n",
    "References can be research publications, but they need not be. Blogs, GitHub repositories, company websites, etc., are all viable references if they are relevant to your project. It must be clear which information comes from which references. (2-3 paragraphs, including at least 2 references)\n",
    "\n",
    " **Use inline citation through HTML footnotes to specify which references support which statements** \n",
    "\n",
    "For example: After government genocide in the 20th century, real birds were replaced with surveillance drones designed to look just like birds.<a name=\"cite_ref-1\"></a>[<sup>1</sup>](#cite_note-1) Use a minimum of 2 or 3 citations, but we prefer more.<a name=\"cite_ref-2\"></a>[<sup>2</sup>](#cite_note-2) You need enough to fully explain and back up important facts. \n",
    "\n",
    "Note that if you click a footnote number in the paragraph above it will transport you to the proper entry in the footnotes list below.  And if you click the ^ in the footnote entry, it will return you to the place in the main text where the footnote is made.\n",
    "\n",
    "To understand the HTML here, `<a name=\"#...\"> </a>` is a tag that allows you produce a named reference for a given location.  Markdown has the construciton `[text with hyperlink](#named reference)` that will produce a clickable link that transports you the named reference.\n",
    "\n",
    "1. <a name=\"cite_note-1\"></a> [^](#cite_ref-1) Lorenz, T. (9 Dec 2021) Birds Aren’t Real, or Are They? Inside a Gen Z Conspiracy Theory. *The New York Times*. https://www.nytimes.com/2021/12/09/technology/birds-arent-real-gen-z-misinformation.html \n",
    "2. <a name=\"cite_note-2\"></a> [^](#cite_ref-2) Also refs should be important to the background, not some randomly chosen vaguely related stuff. Include a web link if possible in refs as above.\n"
   ]
  }
,
{
   "cell_type": "markdown",
   "metadata": {},
   "source": [
    "# Hypothesis"
   ]
  },
  {
   "cell_type": "markdown",
   "metadata": {},
   "source": [
    "We believe that specific settings of our chosen variables for analyzing a LEGO set such as the presence of Minifigures, widespread availability in stores and online, increased versatility of sets, and existence of visual media for popular entertainment significantly drives its popularity upwards. Simultaneously, we suspect that other attributes like price variability, color variability, number of pieces and prescribed ages do not have a meaningful impact on the popularity."
   ]
  }
,
  {
   "cell_type": "markdown",
   "metadata": {},
   "source": [
    "# Data"
   ]
  },
  {
   "cell_type": "markdown",
   "metadata": {},
   "source": [
    "1. The ideal dataset for our project would encompass comprehensive details on each LEGO set, focusing on variables such as theme, number of pieces, target age range, types and colors of pieces, number of minifigures, sales data, retail and secondary market prices, and availability online and in stores. Ideally, we would like each dataset entry to represent a unique LEGO set, identified by its official set number. Variables would be collected from product packaging, official LEGO resources, and third-party sales data, ideally organized into a structured database or Python data frames for analysis and visualization.\n",
    "\n",
    "2. For real dataset acquisition, several online resources offer extensive LEGO set information. While these sources provide a wealth of data, they might not offer comprehensive sales figures or combine all desired variables in a single dataset. We plan to extract and compile data from the following platforms:\n",
    "   - **Brickset**: Offers extensive LEGO set details, including user ownership and wishlist counts, age ranges, and retail periods. (https://brickset.com/sets)\n",
    "   - **BrickEconomy**: Provides detailed historical price data of sets and minifigures across various platforms. (https://www.brickeconomy.com/sets)\n",
    "   - **BrickLink**: Contains detailed price information and piece-level data for each set. (https://www.bricklink.com/v2/main.page)\n",
    "   - **Rebrickable**: Offers downloadable data on LEGO sets, including piece and minifigure details. (https://rebrickable.com/downloads/)\n",
    "   - **Official LEGO® Shop**: The official source for set information, ratings, retail prices, and stock status. (https://www.lego.com/en-us/themes)\n",
    "   - **LEGO Group Reports**: Provides some financial data and popular themes. (https://www.lego.com/en-us/aboutus/lego-group/policies-and-reporting/reports)\n",
    "\n",
    "   The challenge lies in aggregating data from these varied sources to form a cohesive dataset that approximates our ideal dataset. This process may introduce inconsistencies and lacks detailed demographic information and comprehensive sales figures, requiring reliance on indirect measures of popularity and price history."
   ]
  }
,
  {
   "cell_type": "markdown",
   "metadata": {},
   "source": [
    "# Ethics & Privacy"
   ]
  },
  {
   "cell_type": "markdown",
   "metadata": {},
   "source": [
    "Our project necessitates careful consideration of ethical and privacy concerns throughout the data science lifecycle, from question formulation to data collection, analysis, and dissemination of results. One significant concern is the potential for sampling bias, where data may overrepresent LEGO enthusiasts and underrepresent casual consumers. Additionally, our data is likely to exhibit age bias, as the primary audience for LEGO sets (children) may not directly contribute data, skewing our dataset towards adult perspectives. Time bias is another factor, with older sets possibly having more accumulated data than newer ones.\n",
    "\n",
    "We must also navigate privacy and ethical issues related to using third-party data, particularly regarding user-generated content on platforms like Brickset, BrickEconomy, and others. These concerns include ensuring compliance with data privacy laws and the ethical treatment of information, especially when it pertains to minors. Our approach includes anonymizing any personal data and relying on aggregated or anonymized datasets provided by third-party sites, assuming they adhere to ethical standards and privacy laws.\n",
    "\n",
    "To mitigate biases and ethical risks, we plan to incorporate a diverse range of data sources, aiming for a dataset that as accurately as possible reflects the global LEGO set market. We will also transparently communicate the limitations and potential biases of our analysis to users, highlighting that our findings may not fully represent the broader consumer base. Ensuring data privacy, especially for children, will be paramount, requiring strict adherence to legal and ethical guidelines for data handling and analysis."
   ]
  }
,
  {
   "cell_type": "markdown",
   "metadata": {},
   "source": [
    "# Team Expectations"
   ]
  },
  {
   "cell_type": "markdown",
   "metadata": {},
   "source": [
    "Our team has reviewed the COGS108 Team Policies and have set forth the following expectations to ensure the successful completion of our project:\n",
    "\n",
    "- All members should respond to messages relevant to the project within 12 hours through iMessage, acknowledging the message with a response or at minimum, a 'thumbs up'.\n",
    "- Members anticipating delays in their contributions must inform the group at least 3 days in advance, though earlier communication is encouraged.\n",
    "- We will utilize Notion for organizing our group work and scheduling, and Zoom for our meetings, unless a need for flexibility necessitates a different platform.\n",
    "- Should any group member have concerns or questions, they are encouraged to communicate openly with the group to discuss and resolve the issue."
   ]
  }
,
{
   "cell_type": "markdown",
   "metadata": {},
   "source": [
    "# Project Timeline Proposal"
   ]
  },
  {
   "cell_type": "markdown",
   "metadata": {},
   "source": [
    "Below is our team's specific project timeline, detailing our plan from initial discussions through to the final submission. This timeline incorporates both our collective efforts on the project and individual responsibilities for various components. Our aim is to follow this schedule closely, adjusting as necessary to ensure the timely and successful completion of our project.\n",
    "\n",
    "| Meeting Date | Meeting Time | Completed Before Meeting | Discuss at Meeting |\n",
    "|---|---|---|---|\n",
    "| 2/7 | 5 PM | Begin initial research and divide sections of the Project Proposal among team members (Shawn/Suhaib - data, Leena - Ethics/Privacy, Leila/Yvonne - RQ, Hypothesis, Background & Prior Work, Project Timeline) | Share and discuss initial research; suggest edits; set goals for the final draft of the project proposal |\n",
    "| 2/10 | 3 PM | Prepare final draft sections of the project proposal incorporating feedback from the previous meeting | Review and finalize proposal sections; submit the final proposal; plan next steps and assign responsibilities |\n",
    "| 2/17 | 3 PM | Import and wrangle data; begin drafting other project sections | Update the team on data wrangling progress; review work on other sections; adjust project plan as needed |\n",
    "| 2/24 | 3 PM | Complete data importing and wrangling; start exploratory data analysis (EDA) | Review and finalize data wrangling; discuss initial EDA findings; plan for comprehensive EDA and analysis |\n",
    "| 3/2 | 3 PM | Advance EDA; start analysis and draft conclusions | Finalize EDA; review analysis progress; discuss preliminary results and draft conclusions |\n",
    "| 3/9 | 3 PM | Draft complete project for review | Discuss the complete draft; identify areas for improvement; finalize analysis and conclusions |\n",
    "| 3/17 | 3 PM | Finalize project edits | Review final project; submit the completed project and prepare for any final presentations or submissions |"
   ]
  }
]
,
 "metadata": {
  "kernelspec": {
   "display_name": "Python 3 (ipykernel)",
   "language": "python",
   "name": "python3"
  },
  "language_info": {
   "codemirror_mode": {
    "name": "ipython",
    "version": 3
   },
   "file_extension": ".py",
   "mimetype": "text/x-python",
   "name": "python",
   "nbconvert_exporter": "python",
   "pygments_lexer": "ipython3",
   "version": "3.9.7"
  }
 },
 "nbformat": 4,
 "nbformat_minor": 2
}
