{
  "cells": [
    {
      "cell_type": "markdown",
      "metadata": {},
      "source": [
        "# COGS 108 - Project Proposal\n",
        "\n",
        "## Sunday, February 4, 2024\n",
        "\n",
        "**`What factors predict how popular a Lego set theme would be?`**",
        "- What movies/shows are made?",
        "- Number of pieces of Lego set",
        "- Variability colored sets",
        "- For what ages",
        "- Versatility of Lego set (able to change into different things with the same pieces)",
        "- Does higher price points vs lower price points?",
        "- Availability (in-store, online, or both)",
        "- Minifigs: does having minifigs have an effect, is there a specific number i.e. at least 2 in a set (Idk if we should add this category -Yvonne)"
      ]
    },
    {
      "cell_type": "markdown",
      "metadata": {},
      "source": [
        "# Names",
        "- Leila Andrade",
        "- Suhaib Chowdhury",
        "- Yuang (Shawn) Cui",
        "- Leena Khattat",
        "- Yvonne Ng"
      ]
    },
    {
      "cell_type": "markdown",
      "metadata": {},
      "source": [
        "# Research Question",
        "What characteristics of any given Lego set contributes the most, the least or varying degree to its popularity amongst consumers? How accurately can these relationships derived from analyzing the characteristics amongst existing Lego sets predict the popularity of future sets? Some of the characteristics that we would like to explore further in the following sub-questions:",
        "- What movies, shows, or games have been made featuring LEGO that contribute to popularity?",
        "- How do varying number of pieces amongst sets influence popularity?",
        "- Does the variability of colors have an impact on popularity?",
        "- What effect do the advised ages for sets have on popularity?",
        "- How does the versatility of LEGO sets (i.e., building different things with same pieces) contribute to popularity?",
        "- Does price variability have a significant impact on popularity?",
        "- What influence does the availability sets in stores, online or both platforms have on popularity?",
        "- How does the presence of LEGO minifigures affect the popularity of a set?"
      ]
    },
    {
      "cell_type": "markdown",
      "metadata": {},
      "source": [
        "## Background and Prior Work",
        "LEGO® Group was built brick by brick to become the powerhouse that it is today, reaching millions of consumers and accumulating billions in revenue each year. Increases in global market share and profit margins reflect their rise in popularity. In 2022, the LEGO Group experienced a whopping 12 percent growth in consumer sales which can be attributed to introduction of sets from themes such as LEGO® City, LEGO® Icons, and LEGO® Technic™, as well as themes with intellectual property partners such as LEGO® *Star Wars*™ and LEGO® Harry Potter™. All these LEGO sets have one thing in common - the brick - which comes in different shapes, sizes, and colors.",
        "LEGO®s were not always synonymous with the versatile plastic pieces meant for play, exploration, art, or more. Ole Kirk Kristiansen, a master carpenter from Billund, Denmark, began crafting wooden toys, and combined the Danish words “Leg Godt” for “play well” to form the renowned “LEGO®” in 1936. Ole also launched the LEGO® bricks' predecessors, Automatic Binding Bricks, however, it was Godtfred Kirk Christiansen, his son, that catapulted LEGO® Group to new heights in the 1950s by introducing LEGO® System in Play and re-designing the LEGO® brick. The next few decades witness an explosion in available LEGO® sets due to the introduction of new pieces, themes, and entertainment as well as construction of stores, factories, and theme parks.",
        "\n",
        "References:",
        "1. LEGO Group. \"LEGO Group 2022 Annual Results.\" LEGO Official Website, March 2023, https://www.lego.com/en-us/aboutus/news/2023/march/2022-annual-results.",
        "2. LEGO Group. \"The LEGO Group History.\" LEGO Official Website, https://www.lego.com/en-us/aboutus/lego-group/the-lego-group-history.",
        "3. Carron, Joel. \"67 Years of Lego Sets.\" Mode Blog, 21 July 2016, https://mode.com/blog/lego-data-analysis.",
        "4. Zhang, Yvonne. \"Exploratory Analysis on LEGO Dataset.\" Medium, 28 Feb. 2021, https://medium.com/analytics-vidhya/exploratory-analysis-on-lego-dataset-8967e37fc5dd.",
        "5. Christian, Tyran. \"Exploring the Rebrickable LEGO Dataset (Python).\" Medium, 7 Feb. 2023, https://medium.com/@beananalytics_/exploring-the-rebrickable-lego-dataset-python-9f95144be8f1."
      ]
    },
    {
      "cell_type": "markdown",
      "metadata": {},
      "source": [
        "## Hypothesis",
        "We believe that specific settings of our chosen variables for analyzing a LEGO set such as the presence of Minifigures, widespread availability in stores and online, increased versatility of sets, and existence of visual media for popular entertainment significantly drives its popularity upwards. Simultaneously, we suspect that other attributes like price variability, color variability, number of pieces, and prescribed ages do not have a meaningful impact on the popularity."
      ]
    },
    {
      "cell_type": "markdown",
      "metadata": {},
      "source": [
        "## Data",
        "The ideal dataset should contain information on every variable that we want to explore as it pertains to each individual LEGO set. This would include the theme, number of pieces, the target age range, the number, color, and types of pieces, the number of mini figures, the sales of the set, the price of the set, both in retail and the secondhand market, and the availability of each set on stores and online.",
        "Potential real datasets that could be useful include:",
        "- https://brickset.com/sets",
        "- https://www.brickeconomy.com/sets",
        "- https://www.bricklink.com/v2/main.page",
        "- https://rebrickable.com/downloads/",
        "- https://www.lego.com/en-us/themes",
        "- https://www.lego.com/en-us/aboutus/lego-group/policies-and-reporting/reports"
      ]
    },
    {
      "cell_type": "markdown",
      "metadata": {},
      "source": [
        "## Ethics & Privacy",
        "It is crucial to recognize the bias in any datasets we use, ensuring that data collection and usage comply with privacy laws and policies. We plan to anonymize any customer names or personal information and use this anonymized data in our predictive model. Moreover, we will be conscious of the potential biases in our dataset and strive to use as much inclusive data as possible from our datasets."
      ]
    },
    {
      "cell_type": "markdown",
      "metadata": {},
      "source": [
        "## Team Expectations",
        "- All members should respond to messages relevant to the project within 12 hours through iMessage.",
        "- Notify of delays at least 3 days in advance.",
        "- Use Notion for group work and Zoom for meetings.",
        "- Voice any concerns to the group."
      ]
    },
    {
      "cell_type": "markdown",
      "metadata": {},
      "source": [
        "## Project Timeline Proposal",
        "| Meeting Date  | Meeting Time| Completed Before Meeting  | Discuss at Meeting |",
        "|---|---|---|---|",
        "| 1/20  |  1 PM | Read & Think about COGS 108 expectations; brainstorm topics/questions  | Determine best form of communication; Discuss and decide on final project topic; discuss hypothesis; begin background research |",
        "| 1/26  |  10 AM |  Do background research on topic | Discuss ideal dataset(s) and ethics; draft project proposal |",
        "| 2/1  | 10 AM  | Edit, finalize, and submit proposal; Search for datasets  | Discuss Wrangling and possible analytical approaches; Assign group members to lead each specific part   |",
        "| 2/14  | 6 PM  | Import & Wrangle Data (Ant Man); EDA (Hulk) | Review/Edit wrangling/EDA; Discuss Analysis Plan   |",
        "| 2/23  | 12 PM  | Finalize wrangling/EDA; Begin Analysis (Iron Man; Thor) | Discuss/edit Analysis; Complete project check-in |",
        "| 3/13  | 12 PM  | Complete analysis; Draft results/conclusion/discussion (Wasp)| Discuss/edit full project |",
        "| 3/20  | Before 11:59 PM  | NA | Turn in Final Project & Group Project Surveys |"
      ]
    }
  ],
  "metadata": {
    "kernelspec": {
      "display_name": "Python 3 (ipykernel)",
      "language": "python",
      "name": "python3"
    },
    "language_info": {
      "codemirror_mode": {
        "name": "ipython",
        "version": 3
      },
      "file_extension": ".py",
      "mimetype": "text/x-python",
      "name": "python",
      "nbconvert_exporter": "python",
      "pygments_lexer": "ipython3",
      "version": "3.9.7"
    }
  },
  "nbformat": 4,
  "nbformat_minor": 2
}
