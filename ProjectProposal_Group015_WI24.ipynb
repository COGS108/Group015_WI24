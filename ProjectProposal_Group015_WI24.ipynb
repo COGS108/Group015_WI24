# Sunday, February 4, 2024

**`What factors predict how popular a Lego set theme would be?`**
- What movies/shows are made?
- Number of pieces of Lego set
- Variability colored sets
- For what ages
- Versatility of Lego set (able to change into different things with the same pieces)
- Does higher price points vs lower price points?
- Availability (in-store, online, or both)
- Minifigs: does having minifigs have an effect, is there a specific number i.e. at least 2 in a set (Idk if we should add this category -Yvonne)

## Names

- Leila Andrade
- Suhaib Chowdhury
- Yuang (Shawn) Cui
- Leena Khattat
- Yvonne Ng

## Research Question

What characteristics of any given Lego set contribute the most, the least, or to varying degrees to its popularity amongst consumers? How accurately can these relationships derived from analyzing the characteristics amongst existing Lego sets predict the popularity of future sets?

Sub-questions include:
- What movies, shows, or games have been made featuring LEGO that contribute to popularity?
- How do varying numbers of pieces amongst sets influence popularity?
- Does the variability of colors have an impact on popularity?
- What effect do the advised ages for sets have on popularity?
- How does the versatility of LEGO sets (i.e., building different things with the same pieces) contribute to popularity?
- Does price variability have a significant impact on popularity?
- What influence does the availability of sets in stores, online, or both platforms have on popularity?
- How does the presence of LEGO minifigures affect the popularity of a set?

## Background and Prior Work

(Background information and references are accurately listed without any formatting issues.)

## Hypothesis

We believe that specific settings of our chosen variables for analyzing a LEGO set such as the presence of Minifigures, widespread availability in stores and online, increased versatility of sets, and existence of visual media for popular entertainment significantly drives its popularity upwards. Simultaneously, we suspect that other attributes like price variability, color variability, number of pieces, and prescribed ages do not have a meaningful impact on the popularity.

## Data

1. **Ideal dataset description**: The ideal dataset would include details on theme, number of pieces, target age range, colors and types of pieces, number of minifigures, sales data, retail and secondary market prices, and availability.
2. **Potential real datasets**: A list of websites and databases where data can potentially be sourced, including brickset.com, brickeconomy.com, bricklink.com, rebrickable.com, and the official LEGO® website.

## Ethics & Privacy

A thoughtful discussion on ethical considerations and privacy issues related to the project. The section emphasizes the importance of handling data responsibly, acknowledging biases, and ensuring the privacy of individuals.

## Team Policies

- All members should respond to messages relevant to the project within 12 hours through iMessage.
- If a group member expects delays, they should notify the group at least 3 days in advance.
- Notion will be used for group work, and Zoom for meetings.
- Members should voice their concerns to the group if they have any issues or questions.

## Project Timeline Proposal

- **1/20 at 1 PM**: Discussion on project topic, hypothesis, and background research.
- **1/26 at 10 AM**: Drafting project proposal and discussing datasets and ethics.
- **2/1 at 10 AM**: Finalizing proposal and starting data search.
- **2/14 at 6 PM**: Data wrangling and exploratory data analysis.
- **2/23 at 12 PM**: Beginning analysis and project check-in.
- **3/13 at 12 PM**: Completing analysis and drafting results.
- **3/20 Before 11:59 PM**: Final project submission.
