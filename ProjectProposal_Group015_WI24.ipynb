{
  "cells": [
    {
      "cell_type": "markdown",
      "metadata": {},
      "source": [
        "# Sunday, February 4, 2024\n",
        "\n",
        "- **`What factors predict how popular a Lego set theme would be?`**",
        "    - What movies/shows are made?",
        "    - Number of pieces of Lego set",
        "    - Variability colored sets",
        "    - For what ages",
        "    - Versatility of Lego set (able to change into different things with the same pieces)",
        "    - Does higher price points vs lower price points?",
        "    - Availability (in-store, online, or both)",
        "    - Minifigs: does having minifigs have an effect, is there a specific number i.e. at least 2 in a set (Idk if we should add this category -Yvonne)"
      ]
    },
    {
      "cell_type": "markdown",
      "metadata": {},
      "source": [
        "# Names",
        "\n",
        "- Leila Andrade",
        "- Suhaib Chowdhury",
        "- Yuang (Shawn) Cui",
        "- Leena Khattat",
        "- Yvonne Ng"
      ]
    },
    {
      "cell_type": "markdown",
      "metadata": {},
      "source": [
        "# Research Question",
        "\n",
        "What characteristics of any given Lego set contributes the most, the least or varying degree to its popularity amongst consumers? How accurately can these relationships derived from analyzing the characteristics amongst existing Lego sets predict the popularity of future sets? Some of the characteristics that we would like to explore further in the following sub-questions:",
        "\n",
        "- What movies, shows, or games have been made featuring LEGO that contribute to popularity?",
        "- How do varying number of pieces amongst sets influence popularity?",
        "- Does the variability of colors have an impact on popularity?",
        "- What effect do the advised ages for sets have on popularity?",
        "- How does the versatility of LEGO sets (i.e., building different things with same pieces) contribute to popularity?",
        "- Does price variability have a significant impact on popularity?",
        "- What influence does the availability sets in stores, online or both platforms have on popularity?",
        "- How does the presence of LEGO minifigures affect the popularity of a set?"
      ]
    },
    {
      "cell_type": "markdown",
      "metadata": {},
      "source": [
        "# Background and Prior Work",
        "\n",
        "LEGO® Group was built brick by brick to become the powerhouse that it is today, reaching millions of consumers and accumulating billions in revenue each year. Increases in global market share and profit margins reflect their rise in popularity. In 2022, the LEGO Group experienced a whopping 12 percent growth in consumer sales which can be attributed to introduction of sets from themes such as LEGO® City, LEGO® Icons and LEGO® Technic™, as well as themes with intellectual property partners such as LEGO® *Star Wars*™ and LEGO® Harry Potter™. All these LEGO sets have one thing in common - the brick - which comes in different shapes, sizes, and colors.",
        "\n",
        "LEGO®s were not always synonymous with the versatile plastic pieces meant for play, exploration, art or more. Ole Kirk Kristiansen, a master carpenter from Billund, Denmark, began crafting wooden toys, and combined the Danish words “Leg Godt” for “play well” to form the renowned “LEGO®” in 1936. Ole also launched the LEGO® bricks predecessors, Automatic Binding Bricks, however it was Godtfred Kirk Christiansen, his son, that catapulted LEGO® Group to new heights in the 1950s by introducing LEGO® System in Play and re-designing the LEGO® brick. The next few decades witness an explosion in available LEGO® sets due to the introduction of new pieces, themes, and entertainment as well as construction of stores, factories and theme parks.",
        "\n",
        "References:",
        "1. LEGO Group. \"LEGO Group 2022 Annual Results.\" LEGO Official Website, March 2023, https://www.lego.com/en-us/aboutus/news/2023/march/2022-annual-results.",
        "2. LEGO Group. \"The LEGO Group History.\" LEGO Official Website, https://www.lego.com/en-us/aboutus/lego-group/the-lego-group-history.",
        "3. Carron, Joel. \"67 Years of Lego Sets.\" Mode Blog, 21 July 2016, https://mode.com/blog/lego-data-analysis.",
        "4. Zhang, Yvonne. \"Exploratory Analysis on LEGO Dataset.\" Medium, 28 Feb. 2021, https://medium.com/analytics-vidhya/exploratory-analysis-on-lego-dataset-8967e37fc5dd.",
        "5. Christian, Tyran. \"Exploring the Rebrickable LEGO Dataset (Python).\" Medium, 7 Feb. 2023, https://medium.com/@beananalytics_/exploring-the-rebrickable-lego-dataset-python-9f95144be8f1."
      ]
    },
    {
      "cell_type": "markdown",
      "metadata": {},
      "source": [
        "# Hypothesis",
        "\n",
        "We believe that specific settings of our chosen variables for analyzing a LEGO set such as the presence of Minifigures, widespread availability in stores and online, increased versatility of sets, and existence of visual media for popular entertainment significantly drives its popularity upwards. Simultaneously, we suspect that other attributes like price variability, color variability, number of pieces, and prescribed ages do not have a meaningful impact on the popularity."
      ]
    },
    {
      "cell_type": "markdown",
      "metadata": {},
      "source": [
        "# Data",
        "\n",
        "1. Explain what the **ideal** dataset you would want to answer this question. (This should include: What variables? How many observations? Who/what/how would these data be collected? How would these data be stored/organized?)",
        "    1. The ideal dataset should contain information on every variable that we want to explore as it pertains to each individual LEGO set. Each entry in the dataset will correspond to one set where the key is the official set number. Each observation will contain the theme, number of pieces, the target age range, the number, color, and types of pieces, the number of mini figures, the sales of the set, the price of the set, both in retail and the secondhand market, and the availability of each set on stores and online. The properties of each set, such as theme, list of pieces, and age range, are printed on the box and are easily available. The price and exact sales figures do not seem to be public information, so we need to rely on third party sources to find this information. Since Lego is very popular and has a strong community, we can find this data or approximations elsewhere. Data will be transferred from their original sources to Python data frames and reorganized for visualization.",
        "2. Search for potential **real** datasets that could provide you with something useful for this project. You do not have to find every piece of data you will use, but you do need to have demonstrated some idea that (a) this data is gettable and (b) that this data may be different from what your ideal is.",
        "    1. These websites compile information about nearly every Lego set. In order to get the data from these sites, we need to scrape them or enter them manually:",
        "        - https://brickset.com/sets",
        "            - Does not contain exact sales figures, but does have a count of how many users own and want the sets. Also has information about the set’s age range and time period at retail,",
        "        - https://www.brickeconomy.com/sets",
        "            - Has detailed history of the price of the set and minifigures on different sites and in retail.",
        "        - https://www.bricklink.com/v2/main.page",
        "            - Has detailed information about the price and has information about each piece",
        "        - https://rebrickable.com/downloads/",
        "            - Has detailed information about the sets, such as piece and minifigure information.",
        "        - [Themes | Official LEGO® Shop US](https://www.lego.com/en-us/themes)",
        "            - The official site. Contains information about the sets, ratings of the sets, retail price, and information about stock at Lego stores,",
        "        - https://www.lego.com/en-us/aboutus/lego-group/policies-and-reporting/reports",
        "            - Has some financial information about the Lego company. They also state 5 popular themes for the year.",
        "    2. How the data differs from our ideal dataset:",
        "        - Ideally, we would have set information and accurate sales figures all in one place. However, we do not have this so we have to rely on using different sources and aggregate their data, which may lead to inconsistencies. We also do not have access to detailed sales numbers or availability at big box retailers, so we have to rely on these sites for information about the sets' popularity and price history. We also do not know who this data is coming from, so we have very little demographic information, and data from customers who do not use these sites."
      ]
    },
    {
      "cell_type": "markdown",
      "metadata": {},
      "source": [
        "# Ethics & Privacy",
        "",
        "When collecting our data, we must recognize the bias in any datasets we use. One example of a form of bias that might be prevalent is sampling bias - generally, we would expect more enthusiasts or fans inputting data / filling out surveys rather than the average consumer, which might influence the results in a certain direction. Another example of bias that may appear is age bias: LEGOs are generally marketed towards children, but any data collected will most likely be from adults because it is unlikely that children will be filling out surveys or agreeing to data collection. This might be a problem because, as mentioned previously, LEGOs are primarily marketed towards children, so when we create a predictive model based on adult data it may not reflect the larger population that we are trying to predict sales for. Lastly, time bias may appear as well since older sets may have more data than newer sets.",
        "",
        "When reviewing our datasets, we should be aware that when using user data generated from 3rd party sites, we are subjected to their data privacy policies which may not be completely ethical. If not already anonymized, we should anonymize any customer names or personal information and our predictive model should use that anonymized data. In addition, because LEGOs are primarily marketed towards children, we need to ensure that children’s privacy is protected, otherwise a data leak may cause accidental harm, legal ramifications or be detrimental to LEGO’s reputation.",
        "",
        "In order to ethically handle the data, we must ensure that any datasets we use from 3rd party sites follow all privacy laws and policies. To handle biases, we can try to use as much inclusive data we can from our datasets. Despite our efforts, there may still be biases, so we must make sure that anybody using the model is aware that it may not necessarily reflect the larger population."
      ]
    },
    {
      "cell_type": "markdown",
      "metadata": {},
      "source": [
        "# Team Policies",
        "",
        "- All members should respond to messages relevant to the project within 12 hours through iMessage (i.e., texting back, tapping on icon “thumbs up”).",
        "- If a group member is expecting delays, do not tell the group at the last minute. Please give notice at least 3 days in advance, but preferably earlier than that.",
        "- Notion will be the platform that we will use for group work and Zoom for meetings unless additional flexibility is needed.",
        "- If a group member has an issue or question, they will voice their concerns to the group."
      ]
    },
    {
      "cell_type": "markdown",
      "metadata": {},
      "source": [
        "# Project Timeline Proposal",
        "",
        "Specify your team's specific project timeline. An example timeline has been provided. Changes the dates, times, names, and details to fit your group's plan.",
        "",
        "If you think you will need any special resources or training outside what we have covered in COGS 108 to solve your problem, then your proposal should state these clearly. For example, if you have selected a problem that involves implementing multiple neural networks, please state this so we can make sure you know what you’re doing and so we can point you to resources you will need to implement your project. Note that you are not required to use outside methods.",
        "",
        "| Meeting Date | Meeting Time | Completed Before Meeting | Discuss at Meeting |",
        "|--------------|--------------|-------------------------|-------------------|",
        "| 1/20         | 1 PM         | Read & Think about COGS 108 expectations; brainstorm topics/questions | Determine best form of communication; Discuss and decide on final project topic; discuss hypothesis; begin background research |",
        "| 1/26         | 10 AM        | Do background research on topic | Discuss ideal dataset(s) and ethics; draft project proposal |",
        "| 2/1          | 10 AM        | Edit, finalize, and submit proposal; Search for datasets | Discuss Wrangling and possible analytical approaches; Assign group members to lead each specific part |",
        "| 2/14         | 6 PM         | Import & Wrangle Data (Ant Man); EDA (Hulk) | Review/Edit wrangling/EDA; Discuss Analysis Plan |",
        "| 2/23         | 12 PM        | Finalize wrangling/EDA; Begin Analysis (Iron Man; Thor) | Discuss/edit Analysis; Complete project check-in |",
        "| 3/13         | 12 PM        | Complete analysis; Draft results/conclusion/discussion (Wasp)| Discuss/edit full project |",
        "| 3/20         | Before 11:59 PM | NA | Turn in Final Project & Group Project Surveys |"
      ]
    }
  ],
  "metadata": {
    "kernelspec": {
      "display_name": "Python 3 (ipykernel)",
      "language": "python",
      "name": "python3"
    },
    "language_info": {
      "codemirror_mode": {
        "name": "ipython",
        "version": 3
      },
      "file_extension": ".py",
      "mimetype": "text/x-python",
      "name": "python",
      "nbconvert_exporter": "python",
      "pygments_lexer": "ipython3",
      "version": "3.9.7"
    }
  },
  "nbformat": 4,
  "nbformat_minor": 2
}
