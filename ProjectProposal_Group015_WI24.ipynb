{
  "metadata": {
    "kernelspec": {
      "display_name": "Python 3 (ipykernel)",
      "language": "python",
      "name": "python3"
    },
    "language_info": {
      "codemirror_mode": {
        "name": "ipython",
        "version": 3
      },
      "file_extension": ".py",
      "mimetype": "text/x-python",
      "name": "python",
      "nbconvert_exporter": "python",
      "pygments_lexer": "ipython3",
      "version": "3.9.7"
    }
  },
  "nbformat": 4,
  "nbformat_minor": 2,
  "cells": [
    {
      "cell_type": "markdown",
      "metadata": {},
      "source": [
        "# COGS 108 - Project Proposal"
      ]
    },
    {
      "cell_type": "markdown",
      "metadata": {},
      "source": [
        "# Names",
        "- Ant Man",
        "- Hulk",
        "- Iron Man",
        "- Thor",
        "- Wasp"
      ]
    },
    {
      "cell_type": "markdown",
      "metadata": {},
      "source": [
        "# Research Question",
        "What factors predict how popular a Lego set theme would be?"
      ]
    },
    {
      "cell_type": "markdown",
      "metadata": {},
      "source": [
        "## Background and Prior Work",
        "References:\n",
        "1. LEGO Group. \"LEGO Group 2022 Annual Results.\" LEGO Official Website, March 2023, https://www.lego.com/en-us/aboutus/news/2023/march/2022-annual-results.\n",
        "2. LEGO Group. \"The LEGO Group History.\" LEGO Official Website, https://www.lego.com/en-us/aboutus/lego-group/the-lego-group-history.\n",
        "3. Carron, Joel. \"67 Years of Lego Sets.\" Mode Blog, 21 July 2016, https://mode.com/blog/lego-data-analysis.\n",
        "4. Zhang, Yvonne. \"Exploratory Analysis on LEGO Dataset.\" Medium, 28 Feb. 2021, https://medium.com/analytics-vidhya/exploratory-analysis-on-lego-dataset-8967e37fc5dd.\n",
        "5. Christian, Tyran. \"Exploring the Rebrickable LEGO Dataset (Python).\" Medium, 7 Feb. 2023, https://medium.com/@beananalytics_/exploring-the-rebrickable-lego-dataset-python-9f95144be8f1."
      ]
    },
    {
      "cell_type": "markdown",
      "metadata": {},
      "source": [
        "# Hypothesis",
        "We believe that specific settings of our chosen variables for analyzing a LEGO set such as the presence of Minifigures, widespread availability in stores and online, increased versatility of sets, and existence of visual media for popular entertainment significantly drives its popularity upwards."
      ]
    },
    {
      "cell_type": "markdown",
      "metadata": {},
      "source": [
        "# Data",
        "1. Explain what the ideal dataset you would want to answer this question. (This should include: What variables? How many observations? Who/what/how would these data be collected? How would these data be stored/organized?)\n",
        "2. Search for potential real datasets that could provide you with something useful for this project. You do not have to find every piece of data you will use, but you do need to have demonstrated some idea that (a) this data is gettable and (b) that this data may be different from what your ideal is."
      ]
    },
    {
      "cell_type": "markdown",
      "metadata": {},
      "source": [
        "# Ethics & Privacy",
        "Acknowledge and address any ethics & privacy related issues of your question(s), proposed dataset(s), and/or analyses."
      ]
    },
    {
      "cell_type": "markdown",
      "metadata": {},
      "source": [
        "# Team Expectations ",
        "* All members should respond to messages relevant to the project within 12 hours.\n",
        "* If a group member is expecting delays, please give notice at least 3 days in advance.\n",
        "* Use Notion for group work and Zoom for meetings.\n",
        "* Voice any concerns to the group."
      ]
    },
    {
      "cell_type": "markdown",
      "metadata": {},
      "source": [
        "# Project Timeline Proposal",
        "Specify your team's specific project timeline. An example timeline has been provided. Change the dates, times, names, and details to fit your group's plan."
      ]
    }
  ]
}
